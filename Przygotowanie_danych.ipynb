{
 "cells": [
  {
   "cell_type": "markdown",
   "id": "852ce2dc",
   "metadata": {},
   "source": [
    "Skrypt poniżej jest składową częścią mojej pracy magisterskiej w której tworzę sieć neuronową, która będzie potrafiła określić czy w danym fragmencie DNA znajduje się funkcjonalny gen kodujący białko u prokarionów i archeonów."
   ]
  },
  {
   "cell_type": "code",
   "execution_count": 2,
   "id": "6829ae6a",
   "metadata": {},
   "outputs": [],
   "source": [
    "import re\n",
    "import numpy as np\n",
    "import pandas as pd\n",
    "from Bio import Entrez\n",
    "from Bio import SeqIO, SeqFeature"
   ]
  },
  {
   "cell_type": "markdown",
   "id": "b62089f0",
   "metadata": {},
   "source": [
    "Funkcje:"
   ]
  },
  {
   "cell_type": "markdown",
   "id": "68ebf13e",
   "metadata": {},
   "source": [
    "hot_encoding - służy do przekonwertowania seq DNA na macierz zrozumiałą dla NN"
   ]
  },
  {
   "cell_type": "markdown",
   "id": "f2a6d522",
   "metadata": {},
   "source": [
    "potnij_seq - funkcja tnie genom pobranego organizmu oraz adnotuje miejsce gdzie znajduje się cięcie"
   ]
  },
  {
   "cell_type": "markdown",
   "id": "b5815b96",
   "metadata": {},
   "source": [
    "adnotuj_geny - funkcja sprawdza w których fragmentach genomu zachowały się całkowite ramki odczytu genów"
   ]
  },
  {
   "cell_type": "code",
   "execution_count": 6,
   "id": "5078bc32",
   "metadata": {},
   "outputs": [],
   "source": [
    "def hot_ecoding(sequences):\n",
    "\n",
    "    dict = {'A': np.array([0.,0.,0.,1.]), 'G': np.array([0.,0.,1.,0.]), 'T': np.array([0.,1.,0.,0.]), 'C': np.array([1.,0.,0.,0.])}\n",
    "\n",
    "    Seq_list = []\n",
    "\n",
    "    for sequence in sequences:\n",
    "        NEW_SEQ = np.empty([4], int)\n",
    "        \n",
    "        for nucleotide in sequence:\n",
    "            NEW_SEQ = np.vstack((NEW_SEQ, dict[nucleotide]))\n",
    "        \n",
    "        NEW_SEQ = np.delete(NEW_SEQ, 0, 0)\n",
    "        Seq_list.append(NEW_SEQ.transpose())\n",
    "    \n",
    "   \n",
    "    return Seq_list\n",
    "\n",
    "def potnij_seq(sequence):\n",
    "    \n",
    "    n = 1000 # Tutaj precyzujemy na jakie fragmenty tniemy\n",
    "    iteration_start = []\n",
    "    iteration_end = []\n",
    "    iteration_counter_start = 1\n",
    "    iteration_counter_end = n\n",
    "    \n",
    "    string = str(sequence)\n",
    "    \n",
    "    result = ([string[i:i+n] for i in range(0, len(string), n)])\n",
    "    for i in result:\n",
    "        \n",
    "        iteration_start.append(iteration_counter_start)\n",
    "        iteration_end.append(iteration_counter_end)\n",
    "        \n",
    "        iteration_counter_start += len(i)\n",
    "        iteration_counter_end += len(i)\n",
    "    \n",
    "        \n",
    "    data = {\"Snip\":result, \"Start\":iteration_start, \"End\":iteration_end}\n",
    "    df = pd.DataFrame(data)\n",
    "    \n",
    "    return df\n",
    "\n",
    "def adnotuj_geny(df):\n",
    "    \n",
    "    is_there_gene = []\n",
    "\n",
    "    for i in range(0, len(genom)):\n",
    "        state = False\n",
    "        for j in range(0, len(gene)):\n",
    "            if genom['Start'][i] <= int(gene[0][j]) and genom['End'][i] >= int(gene[1][j]):\n",
    "                is_there_gene.append(1)\n",
    "                state = True\n",
    "                break\n",
    "        if state == False:\n",
    "            is_there_gene.append(0)\n",
    "                    \n",
    "    return is_there_gene"
   ]
  },
  {
   "cell_type": "markdown",
   "id": "07bc4a7c",
   "metadata": {},
   "source": [
    "Pobieranie genomów\n",
    "Wykorzystując moduł Entrez z pakietu Biopythona, bezpośrednio pobieram recordy genomów w formacie genbank posiadających wszystkie charakterystyki opisowe genomu.\n",
    "\n",
    "W przyszłości skrypt poniżej zostanie zmodyfikowany, będzie można pobierać wiele genomów jednocześnie, określonych w oddzielnym pliku, oraz równocześnie transformować dane do porządanego formatu, który akceptuje NN."
   ]
  },
  {
   "cell_type": "code",
   "execution_count": 3,
   "id": "ebe77611",
   "metadata": {},
   "outputs": [
    {
     "data": {
      "text/plain": [
       "'1'"
      ]
     },
     "execution_count": 3,
     "metadata": {},
     "output_type": "execute_result"
    }
   ],
   "source": [
    "Entrez.email = \"dawid.gazda99@gamil.com\"\n",
    "handle = Entrez.esearch(db=\"nucleotide\", term=\"NC_000913\")\n",
    "record = Entrez.read(handle)\n",
    "record[\"Count\"]"
   ]
  },
  {
   "cell_type": "code",
   "execution_count": null,
   "id": "8695fa01",
   "metadata": {},
   "outputs": [],
   "source": [
    "handle = Entrez.efetch(db=\"nucleotide\", id=record['IdList'], rettype=\"gbwithparts\", retmode=\"text\")\n",
    "Entrez.email = \"dawid.gazda99@gmail.com\"\n",
    "record = SeqIO.read(handle, \"gb\")\n",
    "\n",
    "outputname=\"/Users/dawidgazda/Desktop/Projekty/Python/genome.gb\""
   ]
  },
  {
   "cell_type": "code",
   "execution_count": null,
   "id": "10f91270",
   "metadata": {},
   "outputs": [],
   "source": [
    "SeqIO.write(record, outputname, 'gb')"
   ]
  },
  {
   "cell_type": "markdown",
   "id": "375c9d8b",
   "metadata": {},
   "source": [
    "Tutaj zachodzi ekstrakcja, z pliku z genomem, adnotowanych miejsc na których znajdują się geny."
   ]
  },
  {
   "cell_type": "code",
   "execution_count": 4,
   "id": "bb253613",
   "metadata": {},
   "outputs": [],
   "source": [
    "annot = []\n",
    "\n",
    "with open('/Users/dawidgazda/Desktop/Projekty/Python/genome.gb') as handle:\n",
    "    for record in SeqIO.parse(handle, 'gb'):\n",
    "        for feature in record.features:\n",
    "            if feature.type =='gene' and 'CDS':\n",
    "                annot.append(str(feature.location))\n",
    "\n",
    "annot_1 = []\n",
    "for string in annot:\n",
    "    nowy_string = re.sub(r'\\(.*\\)','',string)\n",
    "    annot_1.append(nowy_string[1:-1])\n",
    "    \n",
    "gene = pd.Series(annot_1)\n",
    "gene = gene.str.split(':', expand=True)"
   ]
  },
  {
   "cell_type": "markdown",
   "id": "f413171d",
   "metadata": {},
   "source": [
    "Poniżej używam zdefiniowanych wcześniej funkcji do transformacji pobranego wcześniej genomu\n",
    "\n",
    "Docelowo chcę otrzymać plik zawierający zakodowane fragmenty DNA, w formie macierzy, wraz z adnotacją czy znajduje się w nich funkcjonalny gen."
   ]
  },
  {
   "cell_type": "code",
   "execution_count": 7,
   "id": "f3f60cfc",
   "metadata": {},
   "outputs": [],
   "source": [
    "with open('/Users/dawidgazda/Desktop/Projekty/Python/genome.gb') as handle:\n",
    "    for record in SeqIO.parse(handle, 'gb'):\n",
    "        genom = potnij_seq(str(record.seq))\n",
    "\n",
    "CDS = adnotuj_geny(genom)\n",
    "Snip_encoded = hot_ecoding(genom['Snip'])"
   ]
  },
  {
   "cell_type": "code",
   "execution_count": 8,
   "id": "6df200af",
   "metadata": {
    "scrolled": true
   },
   "outputs": [],
   "source": [
    "koncowy_wynik = pd.DataFrame()\n",
    "koncowy_wynik['Snip'] = Snip_encoded\n",
    "koncowy_wynik['Gene'] = CDS\n",
    "koncowy_wynik.to_csv('train_data.csv', index=False)"
   ]
  }
 ],
 "metadata": {
  "kernelspec": {
   "display_name": "Python 3 (ipykernel)",
   "language": "python",
   "name": "python3"
  },
  "language_info": {
   "codemirror_mode": {
    "name": "ipython",
    "version": 3
   },
   "file_extension": ".py",
   "mimetype": "text/x-python",
   "name": "python",
   "nbconvert_exporter": "python",
   "pygments_lexer": "ipython3",
   "version": "3.11.2"
  }
 },
 "nbformat": 4,
 "nbformat_minor": 5
}
